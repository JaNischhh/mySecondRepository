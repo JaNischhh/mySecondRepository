{
 "cells": [
  {
   "cell_type": "markdown",
   "id": "d7d00cd3",
   "metadata": {},
   "source": [
    "# Data Science Tools and Ecosystems"
   ]
  },
  {
   "cell_type": "markdown",
   "id": "af14e179",
   "metadata": {},
   "source": [
    "In this notebook, Data Science Tools and Ecosystems are summariezd."
   ]
  },
  {
   "cell_type": "markdown",
   "id": "307ea4c8",
   "metadata": {},
   "source": [
    "Objectives:\n",
    "- List of popular languages for Data Science\n",
    "- Creating a table with markdown\n",
    "- do some calculation and adding comments"
   ]
  },
  {
   "cell_type": "markdown",
   "id": "c37a3f8e",
   "metadata": {},
   "source": [
    "Some of the popular languages that Data Scientists use are:\n",
    "1. Python\n",
    "2. R\n",
    "3. Julia"
   ]
  },
  {
   "cell_type": "markdown",
   "id": "0b228e8d",
   "metadata": {},
   "source": [
    "Some of the commonly used libraries used by Data Scientists include:\n",
    "    \n",
    "1. Pandas\n",
    "2. NumPy\n",
    "3. SciPy"
   ]
  },
  {
   "cell_type": "markdown",
   "id": "6a4ca426",
   "metadata": {},
   "source": [
    "| Data Science Tools |\n",
    "| --- |\n",
    "| RStudio |\n",
    "| VSCode |\n",
    "| Jupyter Notebook |\n",
    "\n",
    "\n"
   ]
  },
  {
   "cell_type": "markdown",
   "id": "a9cdb6cf",
   "metadata": {},
   "source": [
    "### Below are a few examples of evaluating arithmetic expressions in Python."
   ]
  },
  {
   "cell_type": "code",
   "execution_count": 12,
   "id": "3f5f8af6",
   "metadata": {},
   "outputs": [
    {
     "data": {
      "text/plain": [
       "17"
      ]
     },
     "execution_count": 12,
     "metadata": {},
     "output_type": "execute_result"
    }
   ],
   "source": [
    "# This a simple arithmetic expression to mutiply then add integers\n",
    "(3*4)+5"
   ]
  },
  {
   "cell_type": "code",
   "execution_count": 13,
   "id": "bf655d03",
   "metadata": {},
   "outputs": [
    {
     "data": {
      "text/plain": [
       "3.3333333333333335"
      ]
     },
     "execution_count": 13,
     "metadata": {},
     "output_type": "execute_result"
    }
   ],
   "source": [
    "# This will convert 200 minutes to hours by diving by 60.\n",
    "(200)/60"
   ]
  },
  {
   "cell_type": "markdown",
   "id": "c39952cb",
   "metadata": {},
   "source": [
    "## Author\n",
    "Jan-Niklas Schmidt"
   ]
  },
  {
   "cell_type": "code",
   "execution_count": null,
   "id": "58a4d754",
   "metadata": {},
   "outputs": [],
   "source": []
  }
 ],
 "metadata": {
  "kernelspec": {
   "display_name": "Python 3 (ipykernel)",
   "language": "python",
   "name": "python3"
  },
  "language_info": {
   "codemirror_mode": {
    "name": "ipython",
    "version": 3
   },
   "file_extension": ".py",
   "mimetype": "text/x-python",
   "name": "python",
   "nbconvert_exporter": "python",
   "pygments_lexer": "ipython3",
   "version": "3.9.12"
  }
 },
 "nbformat": 4,
 "nbformat_minor": 5
}
